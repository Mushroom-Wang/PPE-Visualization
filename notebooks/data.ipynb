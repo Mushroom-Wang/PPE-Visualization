{
 "cells": [
  {
   "cell_type": "code",
   "execution_count": 1,
   "metadata": {},
   "outputs": [],
   "source": [
    "from utils import entity_to_entity_data, supplier_number"
   ]
  },
  {
   "cell_type": "code",
   "execution_count": 2,
   "metadata": {},
   "outputs": [
    {
     "data": {
      "text/html": [
       "<div>\n",
       "<style scoped>\n",
       "    .dataframe tbody tr th:only-of-type {\n",
       "        vertical-align: middle;\n",
       "    }\n",
       "\n",
       "    .dataframe tbody tr th {\n",
       "        vertical-align: top;\n",
       "    }\n",
       "\n",
       "    .dataframe thead th {\n",
       "        text-align: right;\n",
       "    }\n",
       "</style>\n",
       "<table border=\"1\" class=\"dataframe\">\n",
       "  <thead>\n",
       "    <tr style=\"text-align: right;\">\n",
       "      <th></th>\n",
       "      <th>ppe</th>\n",
       "      <th>desc</th>\n",
       "      <th>2017</th>\n",
       "      <th>2018</th>\n",
       "      <th>2019</th>\n",
       "    </tr>\n",
       "  </thead>\n",
       "  <tbody>\n",
       "    <tr>\n",
       "      <th>0</th>\n",
       "      <td>'630790</td>\n",
       "      <td>Made-up articles of textile materials, incl. d...</td>\n",
       "      <td>194499</td>\n",
       "      <td>208697</td>\n",
       "      <td>227433</td>\n",
       "    </tr>\n",
       "    <tr>\n",
       "      <th>1</th>\n",
       "      <td>'392690</td>\n",
       "      <td>Articles of plastics and articles of other mat...</td>\n",
       "      <td>775617</td>\n",
       "      <td>918262</td>\n",
       "      <td>1059102</td>\n",
       "    </tr>\n",
       "    <tr>\n",
       "      <th>2</th>\n",
       "      <td>'621010</td>\n",
       "      <td>Garments made up of felt or nonwovens, whether...</td>\n",
       "      <td>20217</td>\n",
       "      <td>23469</td>\n",
       "      <td>26782</td>\n",
       "    </tr>\n",
       "    <tr>\n",
       "      <th>3</th>\n",
       "      <td>'392620</td>\n",
       "      <td>Articles of apparel and clothing accessories p...</td>\n",
       "      <td>102526</td>\n",
       "      <td>111557</td>\n",
       "      <td>89295</td>\n",
       "    </tr>\n",
       "    <tr>\n",
       "      <th>4</th>\n",
       "      <td>'900490</td>\n",
       "      <td>Spectacles, goggles and the like, corrective, ...</td>\n",
       "      <td>65832</td>\n",
       "      <td>69447</td>\n",
       "      <td>64963</td>\n",
       "    </tr>\n",
       "    <tr>\n",
       "      <th>5</th>\n",
       "      <td>'401511</td>\n",
       "      <td>Surgical gloves, of vulcanised rubber (excludi...</td>\n",
       "      <td>27844</td>\n",
       "      <td>27372</td>\n",
       "      <td>32823</td>\n",
       "    </tr>\n",
       "  </tbody>\n",
       "</table>\n",
       "</div>"
      ],
      "text/plain": [
       "       ppe                                               desc    2017    2018  \\\n",
       "0  '630790  Made-up articles of textile materials, incl. d...  194499  208697   \n",
       "1  '392690  Articles of plastics and articles of other mat...  775617  918262   \n",
       "2  '621010  Garments made up of felt or nonwovens, whether...   20217   23469   \n",
       "3  '392620  Articles of apparel and clothing accessories p...  102526  111557   \n",
       "4  '900490  Spectacles, goggles and the like, corrective, ...   65832   69447   \n",
       "5  '401511  Surgical gloves, of vulcanised rubber (excludi...   27844   27372   \n",
       "\n",
       "      2019  \n",
       "0   227433  \n",
       "1  1059102  \n",
       "2    26782  \n",
       "3    89295  \n",
       "4    64963  \n",
       "5    32823  "
      ]
     },
     "execution_count": 2,
     "metadata": {},
     "output_type": "execute_result"
    }
   ],
   "source": [
    "entity_to_entity_data(\"Asia\", \"NorthAmerica\")"
   ]
  },
  {
   "cell_type": "code",
   "execution_count": 3,
   "metadata": {},
   "outputs": [
    {
     "data": {
      "text/html": [
       "<div>\n",
       "<style scoped>\n",
       "    .dataframe tbody tr th:only-of-type {\n",
       "        vertical-align: middle;\n",
       "    }\n",
       "\n",
       "    .dataframe tbody tr th {\n",
       "        vertical-align: top;\n",
       "    }\n",
       "\n",
       "    .dataframe thead th {\n",
       "        text-align: right;\n",
       "    }\n",
       "</style>\n",
       "<table border=\"1\" class=\"dataframe\">\n",
       "  <thead>\n",
       "    <tr style=\"text-align: right;\">\n",
       "      <th></th>\n",
       "      <th>ppe</th>\n",
       "      <th>desc</th>\n",
       "      <th>2017</th>\n",
       "      <th>2018</th>\n",
       "      <th>2019</th>\n",
       "    </tr>\n",
       "  </thead>\n",
       "  <tbody>\n",
       "    <tr>\n",
       "      <th>0</th>\n",
       "      <td>'630790</td>\n",
       "      <td>Made-up articles of textile materials, incl. d...</td>\n",
       "      <td>1335972</td>\n",
       "      <td>1423247</td>\n",
       "      <td>1505100</td>\n",
       "    </tr>\n",
       "    <tr>\n",
       "      <th>1</th>\n",
       "      <td>'392690</td>\n",
       "      <td>Articles of plastics and articles of other mat...</td>\n",
       "      <td>3257590</td>\n",
       "      <td>3576299</td>\n",
       "      <td>3829373</td>\n",
       "    </tr>\n",
       "    <tr>\n",
       "      <th>2</th>\n",
       "      <td>'621010</td>\n",
       "      <td>Garments made up of felt or nonwovens, whether...</td>\n",
       "      <td>337131</td>\n",
       "      <td>360098</td>\n",
       "      <td>398331</td>\n",
       "    </tr>\n",
       "    <tr>\n",
       "      <th>3</th>\n",
       "      <td>'392620</td>\n",
       "      <td>Articles of apparel and clothing accessories p...</td>\n",
       "      <td>480530</td>\n",
       "      <td>481827</td>\n",
       "      <td>446318</td>\n",
       "    </tr>\n",
       "    <tr>\n",
       "      <th>4</th>\n",
       "      <td>'900490</td>\n",
       "      <td>Spectacles, goggles and the like, corrective, ...</td>\n",
       "      <td>515607</td>\n",
       "      <td>512652</td>\n",
       "      <td>525211</td>\n",
       "    </tr>\n",
       "    <tr>\n",
       "      <th>5</th>\n",
       "      <td>'401511</td>\n",
       "      <td>Surgical gloves, of vulcanised rubber (excludi...</td>\n",
       "      <td>187347</td>\n",
       "      <td>201239</td>\n",
       "      <td>209555</td>\n",
       "    </tr>\n",
       "  </tbody>\n",
       "</table>\n",
       "</div>"
      ],
      "text/plain": [
       "       ppe                                               desc     2017  \\\n",
       "0  '630790  Made-up articles of textile materials, incl. d...  1335972   \n",
       "1  '392690  Articles of plastics and articles of other mat...  3257590   \n",
       "2  '621010  Garments made up of felt or nonwovens, whether...   337131   \n",
       "3  '392620  Articles of apparel and clothing accessories p...   480530   \n",
       "4  '900490  Spectacles, goggles and the like, corrective, ...   515607   \n",
       "5  '401511  Surgical gloves, of vulcanised rubber (excludi...   187347   \n",
       "\n",
       "      2018     2019  \n",
       "0  1423247  1505100  \n",
       "1  3576299  3829373  \n",
       "2   360098   398331  \n",
       "3   481827   446318  \n",
       "4   512652   525211  \n",
       "5   201239   209555  "
      ]
     },
     "execution_count": 3,
     "metadata": {},
     "output_type": "execute_result"
    }
   ],
   "source": [
    "entity_to_entity_data(\"Asia\", \"EU15\")"
   ]
  },
  {
   "cell_type": "code",
   "execution_count": 4,
   "metadata": {},
   "outputs": [],
   "source": [
    "# from utils import countries_of, iso_alpha_codes_of"
   ]
  },
  {
   "cell_type": "code",
   "execution_count": 5,
   "metadata": {},
   "outputs": [],
   "source": [
    "# countries_of(\"African\")"
   ]
  },
  {
   "cell_type": "code",
   "execution_count": 6,
   "metadata": {},
   "outputs": [],
   "source": [
    "# iso_alpha_codes_of(\"AF\")"
   ]
  },
  {
   "cell_type": "code",
   "execution_count": 7,
   "metadata": {},
   "outputs": [
    {
     "data": {
      "text/html": [
       "<div>\n",
       "<style scoped>\n",
       "    .dataframe tbody tr th:only-of-type {\n",
       "        vertical-align: middle;\n",
       "    }\n",
       "\n",
       "    .dataframe tbody tr th {\n",
       "        vertical-align: top;\n",
       "    }\n",
       "\n",
       "    .dataframe thead th {\n",
       "        text-align: right;\n",
       "    }\n",
       "</style>\n",
       "<table border=\"1\" class=\"dataframe\">\n",
       "  <thead>\n",
       "    <tr style=\"text-align: right;\">\n",
       "      <th></th>\n",
       "      <th>Coutries or Regions</th>\n",
       "      <th>`630790</th>\n",
       "      <th>`392690</th>\n",
       "      <th>`621010</th>\n",
       "      <th>`392620</th>\n",
       "      <th>`900490</th>\n",
       "      <th>`401511</th>\n",
       "      <th>Sum</th>\n",
       "    </tr>\n",
       "  </thead>\n",
       "  <tbody>\n",
       "    <tr>\n",
       "      <th>0</th>\n",
       "      <td>US</td>\n",
       "      <td>95</td>\n",
       "      <td>13</td>\n",
       "      <td>93</td>\n",
       "      <td>110</td>\n",
       "      <td>93</td>\n",
       "      <td>123</td>\n",
       "      <td>527</td>\n",
       "    </tr>\n",
       "  </tbody>\n",
       "</table>\n",
       "</div>"
      ],
      "text/plain": [
       "  Coutries or Regions  `630790  `392690  `621010  `392620  `900490  `401511  \\\n",
       "0                  US       95       13       93      110       93      123   \n",
       "\n",
       "   Sum  \n",
       "0  527  "
      ]
     },
     "execution_count": 7,
     "metadata": {},
     "output_type": "execute_result"
    }
   ],
   "source": [
    "supplier_number(\"US\")"
   ]
  }
 ],
 "metadata": {
  "kernelspec": {
   "display_name": "Python 3",
   "language": "python",
   "name": "python3"
  },
  "language_info": {
   "codemirror_mode": {
    "name": "ipython",
    "version": 3
   },
   "file_extension": ".py",
   "mimetype": "text/x-python",
   "name": "python",
   "nbconvert_exporter": "python",
   "pygments_lexer": "ipython3",
   "version": "3.8.5"
  }
 },
 "nbformat": 4,
 "nbformat_minor": 4
}
